{
 "cells": [
  {
   "cell_type": "code",
   "execution_count": 1,
   "metadata": {},
   "outputs": [],
   "source": [
    "import os\n",
    "from dotenv import load_dotenv\n",
    "\n",
    "load_dotenv()\n",
    "\n",
    "openai_api_key = os.getenv(\"OPENAI_API_KEY\")\n",
    "\n",
    "if not openai_api_key:\n",
    "    raise ValueError(\"OpenAI API Key is missing\")"
   ]
  },
  {
   "cell_type": "code",
   "execution_count": 3,
   "metadata": {},
   "outputs": [],
   "source": [
    "from langchain.document_loaders import PyPDFLoader\n",
    "from langchain.text_splitter import RecursiveCharacterTextSplitter\n",
    "from langchain.vectorstores import Chroma\n",
    "from langchain_huggingface import HuggingFaceEmbeddings"
   ]
  },
  {
   "cell_type": "code",
   "execution_count": 6,
   "metadata": {},
   "outputs": [],
   "source": [
    "def ingest_pdf(pdf_files, persist_directory=\"Chroma_DB\"):\n",
    "    \"\"\"\n",
    "    Parse PDF, chunk content, generate embeddings, and store in ChromaDB.\n",
    "    Args:\n",
    "        pdf_files (list): List of paths to PDF files.\n",
    "        persist_directory (str): Directory to store the ChromaDB. \n",
    "    \"\"\"\n",
    "    documents = []\n",
    "\n",
    "    for pdf_file in pdf_files:\n",
    "        print(f'Processing: {pdf_file}...')\n",
    "        loader = PyPDFLoader(pdf_file)\n",
    "        documents.extend(loader.load())\n",
    "\n",
    "    print('Chunking documents...')\n",
    "    text_splitter = RecursiveCharacterTextSplitter(\n",
    "        chunk_size = 500,\n",
    "        chunk_overlap = 100\n",
    "    )\n",
    "    chunks = text_splitter.split_documents(documents)\n",
    "\n",
    "    print('Generating embeddings and storing in vector DB...')\n",
    "    embeddings = HuggingFaceEmbeddings(model_name=\"sentence-transformers/all-MiniLM-L6-v2\")\n",
    "    vectorstore = Chroma.from_documents(\n",
    "        chunks,\n",
    "        embedding=embeddings,\n",
    "        persist_directory=persist_directory\n",
    "    )\n",
    "\n",
    "    vectorstore.persist()\n",
    "    print(f'Chroma DB stored at: {persist_directory}')"
   ]
  },
  {
   "cell_type": "code",
   "execution_count": 7,
   "metadata": {},
   "outputs": [],
   "source": [
    "pdf_files = ['data/1706.03762v7.pdf', 'data/1802.05365v2.pdf', 'data/1810.04805v2.pdf']\n",
    "chroma_dir = 'Chroma-DB'"
   ]
  },
  {
   "cell_type": "code",
   "execution_count": 8,
   "metadata": {},
   "outputs": [
    {
     "name": "stdout",
     "output_type": "stream",
     "text": [
      "Processing: data/1706.03762v7.pdf...\n",
      "Processing: data/1802.05365v2.pdf...\n",
      "Processing: data/1810.04805v2.pdf...\n",
      "Chunking documents...\n",
      "Generating embeddings and storing in vector DB...\n"
     ]
    },
    {
     "name": "stderr",
     "output_type": "stream",
     "text": [
      "/Users/varundixit4/Library/Python/3.9/lib/python/site-packages/transformers/tokenization_utils_base.py:1617: FutureWarning: `clean_up_tokenization_spaces` was not set. It will be set to `True` by default. This behavior will be deprecated in transformers v4.45, and will be then set to `False` by default. For more details check this issue: https://github.com/huggingface/transformers/issues/31884\n",
      "  warnings.warn(\n"
     ]
    },
    {
     "name": "stdout",
     "output_type": "stream",
     "text": [
      "Chroma DB stored at: Chroma-DB\n"
     ]
    }
   ],
   "source": [
    "ingest_pdf(pdf_files=pdf_files, persist_directory=chroma_dir)"
   ]
  }
 ],
 "metadata": {
  "kernelspec": {
   "display_name": "Python 3",
   "language": "python",
   "name": "python3"
  },
  "language_info": {
   "codemirror_mode": {
    "name": "ipython",
    "version": 3
   },
   "file_extension": ".py",
   "mimetype": "text/x-python",
   "name": "python",
   "nbconvert_exporter": "python",
   "pygments_lexer": "ipython3",
   "version": "3.9.6"
  }
 },
 "nbformat": 4,
 "nbformat_minor": 2
}
